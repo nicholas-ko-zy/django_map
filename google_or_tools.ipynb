{
 "cells": [
  {
   "cell_type": "code",
   "execution_count": 29,
   "metadata": {},
   "outputs": [
    {
     "name": "stdout",
     "output_type": "stream",
     "text": [
      "The autoreload extension is already loaded. To reload it, use:\n",
      "  %reload_ext autoreload\n"
     ]
    }
   ],
   "source": [
    "import pandas as pd\n",
    "import numpy as np\n",
    "import pickle\n",
    "%load_ext autoreload\n",
    "%autoreload 2"
   ]
  },
  {
   "cell_type": "code",
   "execution_count": 2,
   "metadata": {},
   "outputs": [
    {
     "name": "stdout",
     "output_type": "stream",
     "text": [
      "Objective: 224724\n",
      "Route for vehicle 0:\n",
      " 0 ->  8 ->  2 ->  6 ->  5 -> 0\n",
      "Distance of the route: 1552m\n",
      "\n",
      "Route for vehicle 1:\n",
      " 0 ->  7 ->  1 ->  4 ->  3 ->  15 ->  11 ->  12 -> 0\n",
      "Distance of the route: 2192m\n",
      "\n",
      "Route for vehicle 2:\n",
      " 0 ->  9 ->  10 ->  16 ->  14 ->  13 -> 0\n",
      "Distance of the route: 1780m\n",
      "\n",
      "Maximum of the route distances: 2192m\n"
     ]
    }
   ],
   "source": [
    "\"\"\"Simple Vehicles Routing Problem (VRP).\n",
    "\n",
    "This is a sample using the routing library python wrapper to solve a VRP\n",
    "problem.\n",
    "A description of the problem can be found here:\n",
    "http://en.wikipedia.org/wiki/Vehicle_routing_problem.\n",
    "\n",
    "Distances are in meters.\n",
    "\"\"\"\n",
    "\n",
    "from ortools.constraint_solver import routing_enums_pb2\n",
    "from ortools.constraint_solver import pywrapcp\n",
    "\n",
    "\n",
    "\n",
    "def create_data_model():\n",
    "    \"\"\"Stores the data for the problem.\"\"\"\n",
    "    data = {}\n",
    "    data[\"distance_matrix\"] = [\n",
    "        # fmt: off\n",
    "      [0, 548, 776, 696, 582, 274, 502, 194, 308, 194, 536, 502, 388, 354, 468, 776, 662],\n",
    "      [548, 0, 684, 308, 194, 502, 730, 354, 696, 742, 1084, 594, 480, 674, 1016, 868, 1210],\n",
    "      [776, 684, 0, 992, 878, 502, 274, 810, 468, 742, 400, 1278, 1164, 1130, 788, 1552, 754],\n",
    "      [696, 308, 992, 0, 114, 650, 878, 502, 844, 890, 1232, 514, 628, 822, 1164, 560, 1358],\n",
    "      [582, 194, 878, 114, 0, 536, 764, 388, 730, 776, 1118, 400, 514, 708, 1050, 674, 1244],\n",
    "      [274, 502, 502, 650, 536, 0, 228, 308, 194, 240, 582, 776, 662, 628, 514, 1050, 708],\n",
    "      [502, 730, 274, 878, 764, 228, 0, 536, 194, 468, 354, 1004, 890, 856, 514, 1278, 480],\n",
    "      [194, 354, 810, 502, 388, 308, 536, 0, 342, 388, 730, 468, 354, 320, 662, 742, 856],\n",
    "      [308, 696, 468, 844, 730, 194, 194, 342, 0, 274, 388, 810, 696, 662, 320, 1084, 514],\n",
    "      [194, 742, 742, 890, 776, 240, 468, 388, 274, 0, 342, 536, 422, 388, 274, 810, 468],\n",
    "      [536, 1084, 400, 1232, 1118, 582, 354, 730, 388, 342, 0, 878, 764, 730, 388, 1152, 354],\n",
    "      [502, 594, 1278, 514, 400, 776, 1004, 468, 810, 536, 878, 0, 114, 308, 650, 274, 844],\n",
    "      [388, 480, 1164, 628, 514, 662, 890, 354, 696, 422, 764, 114, 0, 194, 536, 388, 730],\n",
    "      [354, 674, 1130, 822, 708, 628, 856, 320, 662, 388, 730, 308, 194, 0, 342, 422, 536],\n",
    "      [468, 1016, 788, 1164, 1050, 514, 514, 662, 320, 274, 388, 650, 536, 342, 0, 764, 194],\n",
    "      [776, 868, 1552, 560, 674, 1050, 1278, 742, 1084, 810, 1152, 274, 388, 422, 764, 0, 798],\n",
    "      [662, 1210, 754, 1358, 1244, 708, 480, 856, 514, 468, 354, 844, 730, 536, 194, 798, 0],\n",
    "        # fmt: on\n",
    "    ]\n",
    "    data[\"num_vehicles\"] = 3\n",
    "    data[\"depot\"] = 0\n",
    "    return data\n",
    "\n",
    "\n",
    "def print_solution(data, manager, routing, solution):\n",
    "    \"\"\"Prints solution on console.\"\"\"\n",
    "    print(f\"Objective: {solution.ObjectiveValue()}\")\n",
    "    max_route_distance = 0\n",
    "    for vehicle_id in range(data[\"num_vehicles\"]):\n",
    "        if not routing.IsVehicleUsed(solution, vehicle_id):\n",
    "            continue\n",
    "        index = routing.Start(vehicle_id)\n",
    "        plan_output = f\"Route for vehicle {vehicle_id}:\\n\"\n",
    "        route_distance = 0\n",
    "        while not routing.IsEnd(index):\n",
    "            plan_output += f\" {manager.IndexToNode(index)} -> \"\n",
    "            previous_index = index\n",
    "            index = solution.Value(routing.NextVar(index))\n",
    "            route_distance += routing.GetArcCostForVehicle(\n",
    "                previous_index, index, vehicle_id\n",
    "            )\n",
    "        plan_output += f\"{manager.IndexToNode(index)}\\n\"\n",
    "        plan_output += f\"Distance of the route: {route_distance}m\\n\"\n",
    "        print(plan_output)\n",
    "        max_route_distance = max(route_distance, max_route_distance)\n",
    "    print(f\"Maximum of the route distances: {max_route_distance}m\")\n",
    "\n",
    "\n",
    "\n",
    "def main():\n",
    "    \"\"\"Entry point of the program.\"\"\"\n",
    "    # Instantiate the data problem.\n",
    "    data = create_data_model()\n",
    "\n",
    "    # Create the routing index manager.\n",
    "    manager = pywrapcp.RoutingIndexManager(\n",
    "        len(data[\"distance_matrix\"]), data[\"num_vehicles\"], data[\"depot\"]\n",
    "    )\n",
    "\n",
    "    # Create Routing Model.\n",
    "    routing = pywrapcp.RoutingModel(manager)\n",
    "\n",
    "    # Create and register a transit callback.\n",
    "    def distance_callback(from_index, to_index):\n",
    "        \"\"\"Returns the distance between the two nodes.\"\"\"\n",
    "        # Convert from routing variable Index to distance matrix NodeIndex.\n",
    "        from_node = manager.IndexToNode(from_index)\n",
    "        to_node = manager.IndexToNode(to_index)\n",
    "        return data[\"distance_matrix\"][from_node][to_node]\n",
    "\n",
    "    transit_callback_index = routing.RegisterTransitCallback(distance_callback)\n",
    "\n",
    "    # Define cost of each arc.\n",
    "    routing.SetArcCostEvaluatorOfAllVehicles(transit_callback_index)\n",
    "\n",
    "    # Add Distance constraint.\n",
    "    dimension_name = \"Distance\"\n",
    "    routing.AddDimension(\n",
    "        transit_callback_index,\n",
    "        0,  # no slack\n",
    "        3000,  # vehicle maximum travel distance\n",
    "        True,  # start cumul to zero\n",
    "        dimension_name,\n",
    "    )\n",
    "    distance_dimension = routing.GetDimensionOrDie(dimension_name)\n",
    "    distance_dimension.SetGlobalSpanCostCoefficient(100)\n",
    "\n",
    "    # Setting first solution heuristic.\n",
    "    search_parameters = pywrapcp.DefaultRoutingSearchParameters()\n",
    "    search_parameters.first_solution_strategy = (\n",
    "        routing_enums_pb2.FirstSolutionStrategy.PATH_CHEAPEST_ARC\n",
    "    )\n",
    "\n",
    "    # Solve the problem.\n",
    "    solution = routing.SolveWithParameters(search_parameters)\n",
    "\n",
    "    # Print solution on console.\n",
    "    if solution:\n",
    "        print_solution(data, manager, routing, solution)\n",
    "    else:\n",
    "        print(\"No solution found !\")\n",
    "\n",
    "\n",
    "if __name__ == \"__main__\":\n",
    "    main()"
   ]
  },
  {
   "cell_type": "code",
   "execution_count": 3,
   "metadata": {},
   "outputs": [
    {
     "data": {
      "text/html": [
       "<div>\n",
       "<style scoped>\n",
       "    .dataframe tbody tr th:only-of-type {\n",
       "        vertical-align: middle;\n",
       "    }\n",
       "\n",
       "    .dataframe tbody tr th {\n",
       "        vertical-align: top;\n",
       "    }\n",
       "\n",
       "    .dataframe thead th {\n",
       "        text-align: right;\n",
       "    }\n",
       "</style>\n",
       "<table border=\"1\" class=\"dataframe\">\n",
       "  <thead>\n",
       "    <tr style=\"text-align: right;\">\n",
       "      <th></th>\n",
       "      <th>id</th>\n",
       "      <th>location_name</th>\n",
       "      <th>location_type</th>\n",
       "      <th>lat</th>\n",
       "      <th>lon</th>\n",
       "    </tr>\n",
       "  </thead>\n",
       "  <tbody>\n",
       "    <tr>\n",
       "      <th>0</th>\n",
       "      <td>school_1</td>\n",
       "      <td>Admiralty Primary School</td>\n",
       "      <td>school</td>\n",
       "      <td>1.44294</td>\n",
       "      <td>103.80035</td>\n",
       "    </tr>\n",
       "    <tr>\n",
       "      <th>1</th>\n",
       "      <td>school_2</td>\n",
       "      <td>Jurong West Primary School</td>\n",
       "      <td>school</td>\n",
       "      <td>1.33931</td>\n",
       "      <td>103.69903</td>\n",
       "    </tr>\n",
       "    <tr>\n",
       "      <th>2</th>\n",
       "      <td>school_3</td>\n",
       "      <td>River Valley Primary School</td>\n",
       "      <td>school</td>\n",
       "      <td>1.29430</td>\n",
       "      <td>103.83593</td>\n",
       "    </tr>\n",
       "    <tr>\n",
       "      <th>3</th>\n",
       "      <td>school_4</td>\n",
       "      <td>Casuarina Primary School</td>\n",
       "      <td>school</td>\n",
       "      <td>1.37281</td>\n",
       "      <td>103.95723</td>\n",
       "    </tr>\n",
       "    <tr>\n",
       "      <th>4</th>\n",
       "      <td>school_5</td>\n",
       "      <td>St. Joseph’s Institution Junior</td>\n",
       "      <td>school</td>\n",
       "      <td>1.31751</td>\n",
       "      <td>103.84632</td>\n",
       "    </tr>\n",
       "  </tbody>\n",
       "</table>\n",
       "</div>"
      ],
      "text/plain": [
       "         id                    location_name location_type      lat        lon\n",
       "0  school_1         Admiralty Primary School        school  1.44294  103.80035\n",
       "1  school_2       Jurong West Primary School        school  1.33931  103.69903\n",
       "2  school_3      River Valley Primary School        school  1.29430  103.83593\n",
       "3  school_4         Casuarina Primary School        school  1.37281  103.95723\n",
       "4  school_5  St. Joseph’s Institution Junior        school  1.31751  103.84632"
      ]
     },
     "execution_count": 3,
     "metadata": {},
     "output_type": "execute_result"
    }
   ],
   "source": [
    "# My locations\n",
    "\n",
    "my_locations = pd.read_csv(\"data/locations.csv\")\n",
    "my_locations.head()"
   ]
  },
  {
   "cell_type": "markdown",
   "metadata": {},
   "source": [
    "# My OSMnx wrapper/helper functions"
   ]
  },
  {
   "cell_type": "code",
   "execution_count": 37,
   "metadata": {},
   "outputs": [],
   "source": [
    "from src.preprocessor import Preprocessor"
   ]
  },
  {
   "cell_type": "code",
   "execution_count": 32,
   "metadata": {},
   "outputs": [],
   "source": [
    "orig_index = 0\n",
    "dest_index = 1\n",
    "x1 = my_locations['lon'][orig_index]\n",
    "y1 = my_locations['lat'][orig_index]\n",
    "x2 = my_locations['lon'][dest_index]\n",
    "y2 = my_locations['lat'][dest_index]"
   ]
  },
  {
   "cell_type": "code",
   "execution_count": 38,
   "metadata": {},
   "outputs": [],
   "source": [
    "preprocessor = Preprocessor()"
   ]
  },
  {
   "cell_type": "code",
   "execution_count": 48,
   "metadata": {},
   "outputs": [],
   "source": [
    "route = preprocessor.calculate_route(x1, y1, x2, y2)"
   ]
  },
  {
   "cell_type": "code",
   "execution_count": null,
   "metadata": {},
   "outputs": [
    {
     "data": {
      "text/plain": [
       "9287"
      ]
     },
     "execution_count": 67,
     "metadata": {},
     "output_type": "execute_result"
    }
   ],
   "source": [
    "orchard_rd = (1.30192, 103.83812)\n",
    "nus_high = (1.30682, 103.77001)\n",
    "causeway_point = (1.43608, 103.78601)\n",
    "\n",
    "preprocessor.get_route_distance(orchard_rd[1], orchard_rd[0], nus_high[1], nus_high[0])"
   ]
  },
  {
   "cell_type": "markdown",
   "metadata": {},
   "source": [
    "## Create pairwise distance matrix"
   ]
  },
  {
   "cell_type": "code",
   "execution_count": 76,
   "metadata": {},
   "outputs": [],
   "source": [
    "from itertools import combinations\n",
    "\n",
    "def compute_distance_matrix_vectorized(df):\n",
    "    n = len(df)\n",
    "    distance_matrix = np.zeros((n, n))\n",
    "    \n",
    "    # Get all unique pairs of indices\n",
    "    idx_pairs = list(combinations(range(n), 2))\n",
    "    \n",
    "    for i, j in idx_pairs:\n",
    "        x1, y1 = df.iloc[i]['lon'], df.iloc[i]['lat']\n",
    "        x2, y2 = df.iloc[j]['lon'], df.iloc[j]['lat']\n",
    "        distance = preprocessor.get_route_distance(x1, y1, x2, y2)\n",
    "        distance_matrix[i][j] = distance\n",
    "        distance_matrix[j][i] = distance\n",
    "    \n",
    "    return distance_matrix"
   ]
  },
  {
   "cell_type": "code",
   "execution_count": 79,
   "metadata": {},
   "outputs": [
    {
     "name": "stdout",
     "output_type": "stream",
     "text": [
      "Solving shortest path with 4...\n",
      "Solving shortest path with 4...\n",
      "Solving shortest path with 4...\n",
      "Solving shortest path with 4...\n",
      "Solving shortest path with 4...\n",
      "Solving shortest path with 4...\n",
      "Solving shortest path with 4...\n",
      "Solving shortest path with 4...\n"
     ]
    },
    {
     "ename": "KeyboardInterrupt",
     "evalue": "",
     "output_type": "error",
     "traceback": [
      "\u001b[31m---------------------------------------------------------------------------\u001b[39m",
      "\u001b[31mKeyboardInterrupt\u001b[39m                         Traceback (most recent call last)",
      "\u001b[36mCell\u001b[39m\u001b[36m \u001b[39m\u001b[32mIn[79]\u001b[39m\u001b[32m, line 1\u001b[39m\n\u001b[32m----> \u001b[39m\u001b[32m1\u001b[39m compute_distance_matrix_vectorized(my_locations)\n",
      "\u001b[36mCell\u001b[39m\u001b[36m \u001b[39m\u001b[32mIn[76]\u001b[39m\u001b[32m, line 13\u001b[39m, in \u001b[36mcompute_distance_matrix_vectorized\u001b[39m\u001b[34m(df)\u001b[39m\n\u001b[32m     11\u001b[39m x1, y1 = df.iloc[i][\u001b[33m'\u001b[39m\u001b[33mlon\u001b[39m\u001b[33m'\u001b[39m], df.iloc[i][\u001b[33m'\u001b[39m\u001b[33mlat\u001b[39m\u001b[33m'\u001b[39m]\n\u001b[32m     12\u001b[39m x2, y2 = df.iloc[j][\u001b[33m'\u001b[39m\u001b[33mlon\u001b[39m\u001b[33m'\u001b[39m], df.iloc[j][\u001b[33m'\u001b[39m\u001b[33mlat\u001b[39m\u001b[33m'\u001b[39m]\n\u001b[32m---> \u001b[39m\u001b[32m13\u001b[39m distance = preprocessor.get_route_distance(x1, y1, x2, y2)\n\u001b[32m     14\u001b[39m distance_matrix[i][j] = distance\n\u001b[32m     15\u001b[39m distance_matrix[j][i] = distance\n",
      "\u001b[36mFile \u001b[39m\u001b[32m<string>:3\u001b[39m, in \u001b[36mget_route_distance\u001b[39m\u001b[34m(self, x1, y1, x2, y2)\u001b[39m\n",
      "\u001b[36mFile \u001b[39m\u001b[32m<string>:15\u001b[39m, in \u001b[36mcalculate_route\u001b[39m\u001b[34m(self, x1, y1, x2, y2)\u001b[39m\n",
      "\u001b[36mFile \u001b[39m\u001b[32m~/miniconda3/envs/ox/lib/python3.13/site-packages/osmnx/routing.py:338\u001b[39m, in \u001b[36mshortest_path\u001b[39m\u001b[34m(G, orig, dest, weight, cpus)\u001b[39m\n\u001b[32m    294\u001b[39m \u001b[38;5;28;01mdef\u001b[39;00m\u001b[38;5;250m \u001b[39m\u001b[34mshortest_path\u001b[39m(\n\u001b[32m    295\u001b[39m     G: nx.MultiDiGraph,\n\u001b[32m    296\u001b[39m     orig: \u001b[38;5;28mint\u001b[39m | Iterable[\u001b[38;5;28mint\u001b[39m],\n\u001b[32m   (...)\u001b[39m\u001b[32m    300\u001b[39m     cpus: \u001b[38;5;28mint\u001b[39m | \u001b[38;5;28;01mNone\u001b[39;00m = \u001b[32m1\u001b[39m,\n\u001b[32m    301\u001b[39m ) -> \u001b[38;5;28mlist\u001b[39m[\u001b[38;5;28mint\u001b[39m] | \u001b[38;5;28;01mNone\u001b[39;00m | \u001b[38;5;28mlist\u001b[39m[\u001b[38;5;28mlist\u001b[39m[\u001b[38;5;28mint\u001b[39m] | \u001b[38;5;28;01mNone\u001b[39;00m]:\n\u001b[32m    302\u001b[39m \u001b[38;5;250m    \u001b[39m\u001b[33;03m\"\"\"\u001b[39;00m\n\u001b[32m    303\u001b[39m \u001b[33;03m    Solve shortest path from origin node(s) to destination node(s).\u001b[39;00m\n\u001b[32m    304\u001b[39m \n\u001b[32m   (...)\u001b[39m\u001b[32m    336\u001b[39m \u001b[33;03m        are both iterable, then a list of such paths.\u001b[39;00m\n\u001b[32m    337\u001b[39m \u001b[33;03m    \"\"\"\u001b[39;00m\n\u001b[32m--> \u001b[39m\u001b[32m338\u001b[39m     _verify_edge_attribute(G, weight)\n\u001b[32m    340\u001b[39m     \u001b[38;5;66;03m# if neither orig nor dest is iterable, just return the shortest path\u001b[39;00m\n\u001b[32m    341\u001b[39m     \u001b[38;5;28;01mif\u001b[39;00m \u001b[38;5;129;01mnot\u001b[39;00m (\u001b[38;5;28misinstance\u001b[39m(orig, Iterable) \u001b[38;5;129;01mor\u001b[39;00m \u001b[38;5;28misinstance\u001b[39m(dest, Iterable)):\n",
      "\u001b[36mFile \u001b[39m\u001b[32m~/miniconda3/envs/ox/lib/python3.13/site-packages/osmnx/routing.py:472\u001b[39m, in \u001b[36m_verify_edge_attribute\u001b[39m\u001b[34m(G, attr)\u001b[39m\n\u001b[32m    458\u001b[39m \u001b[38;5;250m\u001b[39m\u001b[33;03m\"\"\"\u001b[39;00m\n\u001b[32m    459\u001b[39m \u001b[33;03mVerify attribute values are numeric and non-null across graph edges.\u001b[39;00m\n\u001b[32m    460\u001b[39m \n\u001b[32m   (...)\u001b[39m\u001b[32m    469\u001b[39m \u001b[33;03m    Name of the edge attribute to verify.\u001b[39;00m\n\u001b[32m    470\u001b[39m \u001b[33;03m\"\"\"\u001b[39;00m\n\u001b[32m    471\u001b[39m \u001b[38;5;28;01mtry\u001b[39;00m:\n\u001b[32m--> \u001b[39m\u001b[32m472\u001b[39m     values_float = (np.array(\u001b[38;5;28mtuple\u001b[39m(G.edges(data=attr)))[:, \u001b[32m2\u001b[39m]).astype(\u001b[38;5;28mfloat\u001b[39m)\n\u001b[32m    473\u001b[39m     \u001b[38;5;28;01mif\u001b[39;00m np.isnan(values_float).any():\n\u001b[32m    474\u001b[39m         msg = \u001b[33mf\u001b[39m\u001b[33m\"\u001b[39m\u001b[33mThe attribute \u001b[39m\u001b[38;5;132;01m{\u001b[39;00mattr\u001b[38;5;132;01m!r}\u001b[39;00m\u001b[33m is missing or null on some edges.\u001b[39m\u001b[33m\"\u001b[39m\n",
      "\u001b[36mFile \u001b[39m\u001b[32m~/miniconda3/envs/ox/lib/python3.13/site-packages/networkx/classes/reportviews.py:959\u001b[39m, in \u001b[36m<genexpr>\u001b[39m\u001b[34m(.0)\u001b[39m\n\u001b[32m    957\u001b[39m \u001b[38;5;28;01mdef\u001b[39;00m\u001b[38;5;250m \u001b[39m\u001b[34m__iter__\u001b[39m(\u001b[38;5;28mself\u001b[39m):\n\u001b[32m    958\u001b[39m     \u001b[38;5;28;01mreturn\u001b[39;00m (\n\u001b[32m--> \u001b[39m\u001b[32m959\u001b[39m         \u001b[38;5;28mself\u001b[39m._report(n, nbr, k, dd)\n\u001b[32m    960\u001b[39m         \u001b[38;5;28;01mfor\u001b[39;00m n, nbrs \u001b[38;5;129;01min\u001b[39;00m \u001b[38;5;28mself\u001b[39m._nodes_nbrs()\n\u001b[32m    961\u001b[39m         \u001b[38;5;28;01mfor\u001b[39;00m nbr, kd \u001b[38;5;129;01min\u001b[39;00m nbrs.items()\n\u001b[32m    962\u001b[39m         \u001b[38;5;28;01mfor\u001b[39;00m k, dd \u001b[38;5;129;01min\u001b[39;00m kd.items()\n\u001b[32m    963\u001b[39m     )\n",
      "\u001b[31mKeyboardInterrupt\u001b[39m: "
     ]
    }
   ],
   "source": [
    "compute_distance_matrix_vectorized(my_locations)"
   ]
  },
  {
   "cell_type": "code",
   "execution_count": null,
   "metadata": {},
   "outputs": [
    {
     "ename": "NameError",
     "evalue": "name 'distance_matrix' is not defined",
     "output_type": "error",
     "traceback": [
      "\u001b[31m---------------------------------------------------------------------------\u001b[39m",
      "\u001b[31mNameError\u001b[39m                                 Traceback (most recent call last)",
      "\u001b[36mCell\u001b[39m\u001b[36m \u001b[39m\u001b[32mIn[78]\u001b[39m\u001b[32m, line 1\u001b[39m\n\u001b[32m----> \u001b[39m\u001b[32m1\u001b[39m distance_matrix\n",
      "\u001b[31mNameError\u001b[39m: name 'distance_matrix' is not defined"
     ]
    }
   ],
   "source": []
  }
 ],
 "metadata": {
  "kernelspec": {
   "display_name": "ox",
   "language": "python",
   "name": "python3"
  },
  "language_info": {
   "codemirror_mode": {
    "name": "ipython",
    "version": 3
   },
   "file_extension": ".py",
   "mimetype": "text/x-python",
   "name": "python",
   "nbconvert_exporter": "python",
   "pygments_lexer": "ipython3",
   "version": "3.13.3"
  }
 },
 "nbformat": 4,
 "nbformat_minor": 2
}
